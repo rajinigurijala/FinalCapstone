{
 "cells": [
  {
   "cell_type": "code",
   "execution_count": 1,
   "metadata": {},
   "outputs": [],
   "source": [
    "%matplotlib inline\n",
    "import pandas as pd\n",
    "import numpy as np\n",
    "import matplotlib.pyplot as plt\n",
    "import pickle\n",
    "import seaborn as sns\n",
    "import tensorflow as tf\n",
    "import math\n",
    "from librosa import display\n",
    "import librosa\n",
    "plt.rcParams['figure.figsize'] = 15, 8\n",
    "from sklearn.preprocessing import StandardScaler\n",
    "from sklearn.model_selection import train_test_split\n",
    "import sklearn as sk\n",
    "import tensorflow as tf\n",
    "from tensorflow import keras\n",
    "from tensorflow.python.keras import backend as K\n",
    "from tensorflow.python.keras.models import Sequential\n",
    "from tensorflow.python.keras.layers import InputLayer, Input\n",
    "from tensorflow.python.keras.layers import Reshape, MaxPooling2D\n",
    "from tensorflow.python.keras.layers import Conv2D, Dense, Flatten\n",
    "from tensorflow.keras.layers import Dropout,Activation\n",
    "from tensorflow.keras.callbacks import EarlyStopping\n",
    "from tensorflow.python.keras.callbacks import TensorBoard\n",
    "from tensorflow.python.keras.optimizers import Adam\n",
    "from tensorflow.python.keras.models import load_model\n",
    "\n",
    "import warnings\n",
    "warnings.filterwarnings(\"ignore\")\n",
    "from timeit import default_timer as timer"
   ]
  },
  {
   "cell_type": "code",
   "execution_count": 2,
   "metadata": {},
   "outputs": [],
   "source": [
    "with open('all_features_data.p', 'rb') as f:\n",
    "    vgg_data = pickle.load(f)\n"
   ]
  },
  {
   "cell_type": "code",
   "execution_count": 3,
   "metadata": {
    "scrolled": true
   },
   "outputs": [
    {
     "data": {
      "text/html": [
       "<div>\n",
       "<style scoped>\n",
       "    .dataframe tbody tr th:only-of-type {\n",
       "        vertical-align: middle;\n",
       "    }\n",
       "\n",
       "    .dataframe tbody tr th {\n",
       "        vertical-align: top;\n",
       "    }\n",
       "\n",
       "    .dataframe thead th {\n",
       "        text-align: right;\n",
       "    }\n",
       "</style>\n",
       "<table border=\"1\" class=\"dataframe\">\n",
       "  <thead>\n",
       "    <tr style=\"text-align: right;\">\n",
       "      <th></th>\n",
       "      <th>features</th>\n",
       "      <th>label</th>\n",
       "      <th>file_name</th>\n",
       "      <th>fold</th>\n",
       "      <th>salience</th>\n",
       "      <th>class</th>\n",
       "      <th>0</th>\n",
       "      <th>1</th>\n",
       "      <th>2</th>\n",
       "      <th>3</th>\n",
       "      <th>...</th>\n",
       "      <th>886</th>\n",
       "      <th>887</th>\n",
       "      <th>888</th>\n",
       "      <th>889</th>\n",
       "      <th>890</th>\n",
       "      <th>891</th>\n",
       "      <th>892</th>\n",
       "      <th>893</th>\n",
       "      <th>894</th>\n",
       "      <th>895</th>\n",
       "    </tr>\n",
       "  </thead>\n",
       "  <tbody>\n",
       "    <tr>\n",
       "      <th>0</th>\n",
       "      <td>[157.5, 12.5, 163.5, 111.25, 182.25, 32.5, 89....</td>\n",
       "      <td>3</td>\n",
       "      <td>UrbanSound8K/audio/fold1/101415-3-0-2.wav</td>\n",
       "      <td>1</td>\n",
       "      <td>1</td>\n",
       "      <td>dog_bark</td>\n",
       "      <td>157.5</td>\n",
       "      <td>12.5</td>\n",
       "      <td>163.5</td>\n",
       "      <td>111.25</td>\n",
       "      <td>...</td>\n",
       "      <td>0.0</td>\n",
       "      <td>0.922422</td>\n",
       "      <td>-0.502428</td>\n",
       "      <td>-0.341933</td>\n",
       "      <td>0.0</td>\n",
       "      <td>1.154701</td>\n",
       "      <td>-0.99787</td>\n",
       "      <td>0.0</td>\n",
       "      <td>-0.054023</td>\n",
       "      <td>0.0</td>\n",
       "    </tr>\n",
       "  </tbody>\n",
       "</table>\n",
       "<p>1 rows × 902 columns</p>\n",
       "</div>"
      ],
      "text/plain": [
       "                                            features label  \\\n",
       "0  [157.5, 12.5, 163.5, 111.25, 182.25, 32.5, 89....     3   \n",
       "\n",
       "                                   file_name fold salience     class      0  \\\n",
       "0  UrbanSound8K/audio/fold1/101415-3-0-2.wav    1        1  dog_bark  157.5   \n",
       "\n",
       "      1      2       3  ...  886       887       888       889  890       891  \\\n",
       "0  12.5  163.5  111.25  ...  0.0  0.922422 -0.502428 -0.341933  0.0  1.154701   \n",
       "\n",
       "       892  893       894  895  \n",
       "0 -0.99787  0.0 -0.054023  0.0  \n",
       "\n",
       "[1 rows x 902 columns]"
      ]
     },
     "execution_count": 3,
     "metadata": {},
     "output_type": "execute_result"
    }
   ],
   "source": [
    "vgg_data.head(1)"
   ]
  },
  {
   "cell_type": "code",
   "execution_count": 4,
   "metadata": {},
   "outputs": [
    {
     "data": {
      "text/plain": [
       "(8275, 902)"
      ]
     },
     "execution_count": 4,
     "metadata": {},
     "output_type": "execute_result"
    }
   ],
   "source": [
    "vgg_data.shape"
   ]
  },
  {
   "cell_type": "code",
   "execution_count": 5,
   "metadata": {},
   "outputs": [],
   "source": [
    "vgg_data['label']  = vgg_data['label'].astype('int64')"
   ]
  },
  {
   "cell_type": "markdown",
   "metadata": {},
   "source": [
    "## Train Test Split"
   ]
  },
  {
   "cell_type": "code",
   "execution_count": 6,
   "metadata": {},
   "outputs": [],
   "source": [
    "X = list(vgg_data['features'])\n",
    "X = pd.DataFrame(X)\n",
    "data_cols = X.columns\n",
    "y=vgg_data['label']  "
   ]
  },
  {
   "cell_type": "code",
   "execution_count": 7,
   "metadata": {},
   "outputs": [
    {
     "data": {
      "text/plain": [
       "((8275, 896), (8275,))"
      ]
     },
     "execution_count": 7,
     "metadata": {},
     "output_type": "execute_result"
    }
   ],
   "source": [
    "X.shape,y.shape"
   ]
  },
  {
   "cell_type": "code",
   "execution_count": 8,
   "metadata": {},
   "outputs": [
    {
     "data": {
      "text/plain": [
       "((6692, 896), (1583, 896), (6692,), (1583,))"
      ]
     },
     "execution_count": 8,
     "metadata": {},
     "output_type": "execute_result"
    }
   ],
   "source": [
    "test_preds = {}\n",
    "X_train = X[0:6692].values\n",
    "X_test = X[6692:].values\n",
    "y_train = y[0:6692].values\n",
    "y_test = y[6692:].values\n",
    "\n",
    "X_train.shape, X_test.shape, y_train.shape, y_test.shape\n"
   ]
  },
  {
   "cell_type": "code",
   "execution_count": 9,
   "metadata": {},
   "outputs": [],
   "source": [
    "scaler = StandardScaler().fit(X_train)\n",
    "\n",
    "X_train = scaler.transform(X_train)\n",
    "X_test = scaler.transform(X_test)"
   ]
  },
  {
   "cell_type": "code",
   "execution_count": 10,
   "metadata": {},
   "outputs": [
    {
     "name": "stderr",
     "output_type": "stream",
     "text": [
      "Using TensorFlow backend.\n"
     ]
    }
   ],
   "source": [
    "## Perform Hyperparameter Optimization\n",
    "\n",
    "from keras.wrappers.scikit_learn import KerasClassifier\n",
    "from sklearn.model_selection import GridSearchCV\n",
    "\n",
    "from keras.models import Sequential\n",
    "from keras.layers import Dense, Activation, Embedding, Flatten, LeakyReLU, BatchNormalization, Dropout\n",
    "from keras.activations import relu, sigmoid"
   ]
  },
  {
   "cell_type": "code",
   "execution_count": 11,
   "metadata": {},
   "outputs": [
    {
     "data": {
      "text/plain": [
       "896"
      ]
     },
     "execution_count": 11,
     "metadata": {},
     "output_type": "execute_result"
    }
   ],
   "source": [
    "X_train.shape[1]"
   ]
  },
  {
   "cell_type": "code",
   "execution_count": 12,
   "metadata": {},
   "outputs": [],
   "source": [
    "def create_model(layers, activation):\n",
    "    model = Sequential()\n",
    "    for i, nodes in enumerate(layers):\n",
    "        if i==0:\n",
    "            model.add(Dense(nodes,input_dim=X_train.shape[1]))\n",
    "            model.add(Activation(activation))\n",
    "            model.add(Dropout(0.3))\n",
    "        else:\n",
    "            model.add(Dense(nodes))\n",
    "            model.add(Activation(activation))\n",
    "            model.add(Dropout(0.3))\n",
    "            \n",
    "    model.add(Dense(units = 10, activation = 'softmax')) # Note: no activation beyond this point\n",
    "    \n",
    "    model.compile(optimizer='adam', loss='sparse_categorical_crossentropy',metrics=['accuracy'])\n",
    "    return model"
   ]
  },
  {
   "cell_type": "code",
   "execution_count": 13,
   "metadata": {},
   "outputs": [],
   "source": [
    "model = KerasClassifier(build_fn=create_model, verbose=0)\n",
    "\n",
    "layers = [(40, 20)]\n",
    "\n",
    "activations = ['relu']\n",
    "\n",
    "param_grid = dict(layers=layers, activation=activations, batch_size = [256], epochs=[20])\n"
   ]
  },
  {
   "cell_type": "code",
   "execution_count": 14,
   "metadata": {},
   "outputs": [],
   "source": [
    "grid = GridSearchCV(estimator=model, param_grid=param_grid,cv=10)"
   ]
  },
  {
   "cell_type": "code",
   "execution_count": 15,
   "metadata": {},
   "outputs": [
    {
     "name": "stdout",
     "output_type": "stream",
     "text": [
      "WARNING:tensorflow:From C:\\Users\\rkalidindi\\AppData\\Local\\Continuum\\anaconda3\\lib\\site-packages\\tensorflow\\python\\ops\\resource_variable_ops.py:435: colocate_with (from tensorflow.python.framework.ops) is deprecated and will be removed in a future version.\n",
      "Instructions for updating:\n",
      "Colocations handled automatically by placer.\n"
     ]
    }
   ],
   "source": [
    "grid_result = grid.fit(X_train, y_train)"
   ]
  },
  {
   "cell_type": "code",
   "execution_count": 16,
   "metadata": {},
   "outputs": [
    {
     "name": "stdout",
     "output_type": "stream",
     "text": [
      "0.7510273694992066 {'activation': 'relu', 'batch_size': 256, 'epochs': 20, 'layers': (40, 20)}\n"
     ]
    }
   ],
   "source": [
    "print(grid_result.best_score_,grid_result.best_params_)"
   ]
  },
  {
   "cell_type": "code",
   "execution_count": 17,
   "metadata": {},
   "outputs": [],
   "source": [
    "#Copied Results\n",
    "#0.744622004032135 {'activation': 'relu', 'batch_size': 256, 'epochs': 10, 'layers': (30, 15)}\n",
    "#0.759992641210556 {'activation': 'relu', 'batch_size': 256, 'epochs': 20, 'layers': (40, 20)}"
   ]
  },
  {
   "cell_type": "code",
   "execution_count": 18,
   "metadata": {},
   "outputs": [],
   "source": [
    "### Build small model\n",
    "def create_best_model():\n",
    "    model = Sequential()\n",
    "    model.add(Dense(40,input_dim=X_train.shape[1], activation='relu'))\n",
    "    model.add(Dropout(0.3))\n",
    "    model.add(Dense(20, activation='relu'))\n",
    "    model.add(Dropout(0.3))\n",
    "    \n",
    "    # Note: no activation beyond this point\n",
    "    model.add(Dense(10, activation='softmax'))\n",
    "    # Compile the model    \n",
    "    model.compile(optimizer='adam', loss='sparse_categorical_crossentropy',metrics=['accuracy'])\n",
    "    return model\n"
   ]
  },
  {
   "cell_type": "code",
   "execution_count": 19,
   "metadata": {},
   "outputs": [],
   "source": [
    "DNN = KerasClassifier(build_fn=create_best_model, batch_size=256, epochs=20, verbose=1)"
   ]
  },
  {
   "cell_type": "code",
   "execution_count": 20,
   "metadata": {
    "scrolled": true
   },
   "outputs": [
    {
     "name": "stdout",
     "output_type": "stream",
     "text": [
      "Epoch 1/20\n",
      "6692/6692 [==============================] - 3s 448us/step - loss: 1.9267 - accuracy: 0.3365\n",
      "Epoch 2/20\n",
      "6692/6692 [==============================] - 1s 124us/step - loss: 1.2876 - accuracy: 0.5613\n",
      "Epoch 3/20\n",
      "6692/6692 [==============================] - 1s 125us/step - loss: 1.0496 - accuracy: 0.6553\n",
      "Epoch 4/20\n",
      "6692/6692 [==============================] - 1s 129us/step - loss: 0.9192 - accuracy: 0.6990\n",
      "Epoch 5/20\n",
      "6692/6692 [==============================] - 1s 124us/step - loss: 0.8438 - accuracy: 0.7192\n",
      "Epoch 6/20\n",
      "6692/6692 [==============================] - 1s 149us/step - loss: 0.7538 - accuracy: 0.74900s - loss: 0.7927 \n",
      "Epoch 7/20\n",
      "6692/6692 [==============================] - 1s 134us/step - loss: 0.7001 - accuracy: 0.7691\n",
      "Epoch 8/20\n",
      "6692/6692 [==============================] - 1s 142us/step - loss: 0.6739 - accuracy: 0.7809\n",
      "Epoch 9/20\n",
      "6692/6692 [==============================] - 1s 104us/step - loss: 0.6325 - accuracy: 0.7890\n",
      "Epoch 10/20\n",
      "6692/6692 [==============================] - 1s 122us/step - loss: 0.5844 - accuracy: 0.8050\n",
      "Epoch 11/20\n",
      "6692/6692 [==============================] - 1s 114us/step - loss: 0.5739 - accuracy: 0.8107\n",
      "Epoch 12/20\n",
      "6692/6692 [==============================] - 1s 130us/step - loss: 0.5479 - accuracy: 0.8198\n",
      "Epoch 13/20\n",
      "6692/6692 [==============================] - 1s 159us/step - loss: 0.5168 - accuracy: 0.8301\n",
      "Epoch 14/20\n",
      "6692/6692 [==============================] - 1s 141us/step - loss: 0.4822 - accuracy: 0.8380\n",
      "Epoch 15/20\n",
      "6692/6692 [==============================] - 1s 95us/step - loss: 0.4950 - accuracy: 0.8355\n",
      "Epoch 16/20\n",
      "6692/6692 [==============================] - 1s 80us/step - loss: 0.4515 - accuracy: 0.8561\n",
      "Epoch 17/20\n",
      "6692/6692 [==============================] - 1s 82us/step - loss: 0.4471 - accuracy: 0.8512\n",
      "Epoch 18/20\n",
      "6692/6692 [==============================] - 1s 83us/step - loss: 0.4260 - accuracy: 0.8594\n",
      "Epoch 19/20\n",
      "6692/6692 [==============================] - 1s 87us/step - loss: 0.4000 - accuracy: 0.8691\n",
      "Epoch 20/20\n",
      "6692/6692 [==============================] - 0s 69us/step - loss: 0.4209 - accuracy: 0.8577\n"
     ]
    }
   ],
   "source": [
    "best_model = DNN.fit(X_train, y_train)"
   ]
  },
  {
   "cell_type": "code",
   "execution_count": 21,
   "metadata": {},
   "outputs": [
    {
     "data": {
      "text/plain": [
       "<matplotlib.axes._subplots.AxesSubplot at 0x20bb8c362b0>"
      ]
     },
     "execution_count": 21,
     "metadata": {},
     "output_type": "execute_result"
    },
    {
     "data": {
      "image/png": "[encoded data removed]",
      "text/plain": [
       "<Figure size 432x288 with 1 Axes>"
      ]
     },
     "metadata": {
      "needs_background": "light"
     },
     "output_type": "display_data"
    }
   ],
   "source": [
    "\n",
    "model_loss = pd.DataFrame(best_model.history)\n",
    "model_loss.plot()"
   ]
  },
  {
   "cell_type": "code",
   "execution_count": 22,
   "metadata": {},
   "outputs": [
    {
     "data": {
      "text/html": [
       "<div>\n",
       "<style scoped>\n",
       "    .dataframe tbody tr th:only-of-type {\n",
       "        vertical-align: middle;\n",
       "    }\n",
       "\n",
       "    .dataframe tbody tr th {\n",
       "        vertical-align: top;\n",
       "    }\n",
       "\n",
       "    .dataframe thead th {\n",
       "        text-align: right;\n",
       "    }\n",
       "</style>\n",
       "<table border=\"1\" class=\"dataframe\">\n",
       "  <thead>\n",
       "    <tr style=\"text-align: right;\">\n",
       "      <th></th>\n",
       "      <th>loss</th>\n",
       "      <th>accuracy</th>\n",
       "    </tr>\n",
       "  </thead>\n",
       "  <tbody>\n",
       "    <tr>\n",
       "      <th>18</th>\n",
       "      <td>0.399990</td>\n",
       "      <td>0.869097</td>\n",
       "    </tr>\n",
       "    <tr>\n",
       "      <th>17</th>\n",
       "      <td>0.425985</td>\n",
       "      <td>0.859384</td>\n",
       "    </tr>\n",
       "    <tr>\n",
       "      <th>19</th>\n",
       "      <td>0.420901</td>\n",
       "      <td>0.857741</td>\n",
       "    </tr>\n",
       "    <tr>\n",
       "      <th>15</th>\n",
       "      <td>0.451458</td>\n",
       "      <td>0.856097</td>\n",
       "    </tr>\n",
       "    <tr>\n",
       "      <th>16</th>\n",
       "      <td>0.447125</td>\n",
       "      <td>0.851166</td>\n",
       "    </tr>\n",
       "  </tbody>\n",
       "</table>\n",
       "</div>"
      ],
      "text/plain": [
       "        loss  accuracy\n",
       "18  0.399990  0.869097\n",
       "17  0.425985  0.859384\n",
       "19  0.420901  0.857741\n",
       "15  0.451458  0.856097\n",
       "16  0.447125  0.851166"
      ]
     },
     "execution_count": 22,
     "metadata": {},
     "output_type": "execute_result"
    }
   ],
   "source": [
    "model_loss.sort_values(by='accuracy', ascending=False).head(5)"
   ]
  },
  {
   "cell_type": "code",
   "execution_count": 23,
   "metadata": {},
   "outputs": [
    {
     "name": "stdout",
     "output_type": "stream",
     "text": [
      "1583/1583 [==============================] - 1s 728us/step\n",
      "[0.7378879273174989, 0.8060644268989563]\n"
     ]
    }
   ],
   "source": [
    "score = best_model.model.evaluate(X_test, y_test, batch_size=256)\n",
    "print(score)"
   ]
  },
  {
   "cell_type": "code",
   "execution_count": 24,
   "metadata": {},
   "outputs": [],
   "source": [
    "predictions = best_model.model.predict_classes(X_test)"
   ]
  },
  {
   "cell_type": "code",
   "execution_count": 25,
   "metadata": {},
   "outputs": [
    {
     "data": {
      "text/plain": [
       "array([3, 0, 0, ..., 4, 4, 4], dtype=int64)"
      ]
     },
     "execution_count": 25,
     "metadata": {},
     "output_type": "execute_result"
    }
   ],
   "source": [
    "predictions"
   ]
  },
  {
   "cell_type": "code",
   "execution_count": 26,
   "metadata": {},
   "outputs": [
    {
     "data": {
      "text/plain": [
       "array([0, 0, 0, ..., 4, 4, 4], dtype=int64)"
      ]
     },
     "execution_count": 26,
     "metadata": {},
     "output_type": "execute_result"
    }
   ],
   "source": [
    "y_test"
   ]
  },
  {
   "cell_type": "code",
   "execution_count": 27,
   "metadata": {},
   "outputs": [
    {
     "name": "stdout",
     "output_type": "stream",
     "text": [
      "Classification report for Keras classifier <keras.wrappers.scikit_learn.KerasClassifier object at 0x0000020BAFDE7AC8>:\n",
      "              precision    recall  f1-score   support\n",
      "\n",
      "           0       0.74      0.52      0.61       200\n",
      "           1       0.85      0.55      0.67        40\n",
      "           2       0.77      0.83      0.80       200\n",
      "           3       0.77      0.79      0.78       175\n",
      "           4       0.87      0.76      0.81       190\n",
      "           5       0.86      0.92      0.89       182\n",
      "           6       0.98      1.00      0.99        54\n",
      "           7       0.77      0.97      0.86       177\n",
      "           8       0.86      0.78      0.82       165\n",
      "           9       0.76      0.90      0.83       200\n",
      "\n",
      "    accuracy                           0.81      1583\n",
      "   macro avg       0.82      0.80      0.81      1583\n",
      "weighted avg       0.81      0.81      0.80      1583\n",
      "\n",
      "\n"
     ]
    }
   ],
   "source": [
    "from sklearn.metrics import classification_report,confusion_matrix, roc_curve, auc, silhouette_samples, silhouette_score\n",
    "from sklearn import metrics\n",
    "print(\"Classification report for Keras classifier %s:\\n%s\\n\"\n",
    "      % (model, classification_report(y_test, predictions)))\n"
   ]
  },
  {
   "cell_type": "code",
   "execution_count": 28,
   "metadata": {},
   "outputs": [
    {
     "data": {
      "image/png": "[encoded data removed]",
      "text/plain": [
       "<Figure size 1080x576 with 2 Axes>"
      ]
     },
     "metadata": {
      "needs_background": "light"
     },
     "output_type": "display_data"
    },
    {
     "data": {
      "text/plain": [
       "<Figure size 1080x576 with 0 Axes>"
      ]
     },
     "metadata": {},
     "output_type": "display_data"
    }
   ],
   "source": [
    "import scikitplot as skplt\n",
    "plt.rcParams['figure.figsize'] = 15, 8\n",
    "skplt.metrics.plot_confusion_matrix(y_test, predictions, normalize=True)\n",
    "plt.show()\n",
    "plt.savefig('DNN_GS_Confusion_Matrix.png')"
   ]
  },
  {
   "cell_type": "code",
   "execution_count": null,
   "metadata": {},
   "outputs": [],
   "source": []
  }
 ],
 "metadata": {
  "kernelspec": {
   "display_name": "Python 3",
   "language": "python",
   "name": "python3"
  },
  "language_info": {
   "codemirror_mode": {
    "name": "ipython",
    "version": 3
   },
   "file_extension": ".py",
   "mimetype": "text/x-python",
   "name": "python",
   "nbconvert_exporter": "python",
   "pygments_lexer": "ipython3",
   "version": "3.7.3"
  }
 },
 "nbformat": 4,
 "nbformat_minor": 2
}
